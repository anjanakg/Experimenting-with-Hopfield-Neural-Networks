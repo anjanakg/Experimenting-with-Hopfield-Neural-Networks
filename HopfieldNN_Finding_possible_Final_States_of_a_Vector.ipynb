{
 "cells": [
  {
   "cell_type": "code",
   "execution_count": 1,
   "id": "aabec695",
   "metadata": {},
   "outputs": [],
   "source": [
    "#imports\n",
    "import numpy as np\n",
    "import itertools\n",
    "import copy\n",
    "\n",
    "#for visualization\n",
    "import matplotlib.pyplot as plt\n",
    "import matplotlib.pyplot as plotLine"
   ]
  },
  {
   "cell_type": "code",
   "execution_count": 2,
   "id": "fd4501d3",
   "metadata": {},
   "outputs": [],
   "source": [
    "# Required Functions\n",
    "# Function for converting binary array to decimal value\n",
    "def binarytodecimal(binary):\n",
    "    number = 0\n",
    "    for b in binary:\n",
    "        number = (2 * number) + b\n",
    "    return number\n",
    "\n",
    "# threshold function for network updating\n",
    "def Thresh(x):\n",
    "        if  x < 0: \n",
    "            val = 0\n",
    "        else:\n",
    "            val =  1\n",
    "        return val   "
   ]
  },
  {
   "cell_type": "code",
   "execution_count": 3,
   "id": "16150f11",
   "metadata": {},
   "outputs": [],
   "source": [
    "# memory states/steady states\n",
    "v1 = [1, 1, 1,-1, 1, -1, -1, 1, -1]\n",
    "v2 = [1, -1, 1, 1, -1, 1, 1, 1, 1]\n",
    "#v3 = [-1, -1, -1,1, -1, 1, 1, -1, 1]\n",
    "#v4 = [-1, 1, -1, -1, 1, -1, -1, -1, -1]\n"
   ]
  },
  {
   "cell_type": "code",
   "execution_count": 4,
   "id": "df2138cb",
   "metadata": {},
   "outputs": [
    {
     "name": "stdout",
     "output_type": "stream",
     "text": [
      "Decimal value v1:466\n",
      "Decimal value v2:367\n"
     ]
    }
   ],
   "source": [
    "V1 = [1, 1, 1, 0, 1, 0, 0, 1, 0]\n",
    "V2 = [1, 0, 1, 1, 0, 1, 1, 1, 1]\n",
    "\n",
    "print(\"Decimal value v1:\" + str(binarytodecimal(V1)))\n",
    "print(\"Decimal value v2:\" + str(binarytodecimal(V2)))"
   ]
  },
  {
   "cell_type": "code",
   "execution_count": 5,
   "id": "a44f8b95",
   "metadata": {},
   "outputs": [],
   "source": [
    "memory = [v1,v2]\n",
    "memory = np.array(memory)\n",
    "\n",
    "if  memory.size > 1:\n",
    "    n = memory.shape[1] \n",
    "else:\n",
    "    n = len(memory)\n",
    "\n",
    "P = len(memory)#Number of memories\n",
    "N = memory.shape[1]\n",
    "neurons = (N * N) #Number of neurons\n",
    "init_decimal = []\n",
    "final_decimal = []"
   ]
  },
  {
   "cell_type": "code",
   "execution_count": 6,
   "id": "15df1e03",
   "metadata": {},
   "outputs": [
    {
     "data": {
      "image/png": "[encoded data removed]",
      "text/plain": [
       "<Figure size 576x576 with 2 Axes>"
      ]
     },
     "metadata": {},
     "output_type": "display_data"
    }
   ],
   "source": [
    "fig = plt.figure(figsize = (8, 8))\n",
    "fig.subplots_adjust(hspace=0.2, wspace=0.2)\n",
    "N_sqrt = np.sqrt(N).astype('int32')\n",
    "\n",
    "for num, i in enumerate(memory):\n",
    "    plt.subplot(1, 2, num+1)\n",
    "    plt.imshow(np.where(i.reshape(N_sqrt, N_sqrt)<1, 0, 1), cmap='gray')\n",
    "    plt.xticks([]) \n",
    "    plt.yticks([])     "
   ]
  },
  {
   "cell_type": "code",
   "execution_count": 6,
   "id": "3b497985",
   "metadata": {},
   "outputs": [
    {
     "name": "stdout",
     "output_type": "stream",
     "text": [
      "[[ 0.  0.  1.  0.  0.  0.  0.  1.  0.]\n",
      " [ 0.  0.  0. -1.  1. -1. -1.  0. -1.]\n",
      " [ 1.  0.  0.  0.  0.  0.  0.  1.  0.]\n",
      " [ 0. -1.  0.  0. -1.  1.  1.  0.  1.]\n",
      " [ 0.  1.  0. -1.  0. -1. -1.  0. -1.]\n",
      " [ 0. -1.  0.  1. -1.  0.  1.  0.  1.]\n",
      " [ 0. -1.  0.  1. -1.  1.  0.  0.  1.]\n",
      " [ 1.  0.  1.  0.  0.  0.  0.  0.  0.]\n",
      " [ 0. -1.  0.  1. -1.  1.  1.  0.  0.]]\n"
     ]
    }
   ],
   "source": [
    "#learn the pattern / patterns\n",
    "weights = (1 / memory.shape[0]) * memory.T @ memory #hebbian learning\n",
    "#weights =  memory.T @ memory #hebbian learning\n",
    "np.fill_diagonal(weights, 0)\n",
    "print(weights)"
   ]
  },
  {
   "cell_type": "code",
   "execution_count": 7,
   "id": "8b232123",
   "metadata": {},
   "outputs": [
    {
     "name": "stdout",
     "output_type": "stream",
     "text": [
      "State 1:[0 0 0 0 0 0 0 0 0]\n",
      "State 512:[1 1 1 1 1 1 1 1 1]\n"
     ]
    }
   ],
   "source": [
    "#initialized states for network training\n",
    "state = np.array(list(itertools.product([0, 1], repeat=9))) #create all possible 512 states\n",
    "print(\"State 1:\" + str(state[0]))\n",
    "print(\"State 512:\" + str(state[511]))"
   ]
  },
  {
   "cell_type": "code",
   "execution_count": 11,
   "id": "05966221",
   "metadata": {
    "scrolled": false
   },
   "outputs": [
    {
     "data": {
      "image/png": "[encoded data removed]",
      "text/plain": [
       "<Figure size 1152x576 with 1 Axes>"
      ]
     },
     "metadata": {
      "needs_background": "light"
     },
     "output_type": "display_data"
    }
   ],
   "source": [
    "# Updating the network - Asynchronous updating\n",
    "#print('  Initial State' + '     ' + 'Decimal'+ ' ' + '   Final State' + '      ' +'Decimal' )\n",
    "#print('-------------------------------------------------------')\n",
    "fig, ax1 = plt.subplots(figsize = (16, 8))\n",
    "n_iters = 10\n",
    "for count in range(n_iters):\n",
    "    for j, test_array in enumerate(state):\n",
    "        xa = copy.deepcopy(test_array)\n",
    "        #print(xa,'', binatodeci(xa))\n",
    "\n",
    "        init_decimal.append(binarytodecimal(xa))\n",
    "        node_idx = list(range(N))\n",
    "        np.random.shuffle(node_idx)\n",
    "        for idx in node_idx:\n",
    "            ic = test_array@weights[:,idx]\n",
    "            #test_array[idx] = Thresh(ic)\n",
    "        \n",
    "            if ic < 0: \n",
    "                test_array[idx] = 0\n",
    "            elif ic == 0:\n",
    "                test_array[idx] = test_array[idx]\n",
    "            else:\n",
    "                test_array[idx] =  1      \n",
    "            \n",
    "        #print(test_array,'', binatodeci(test_array))\n",
    "        #print(xa,'  ', binarytodecimal(xa), '  ', test_array,'  ', binarytodecimal(test_array) )\n",
    "\n",
    "        final_decimal.append(binarytodecimal(test_array))\n",
    "        #print('-------------------------------------------------------')\n",
    "\n",
    "#plot graphs\n",
    "plt.scatter(init_decimal, final_decimal, c = 'red', marker= '.')\n",
    "ax1.set_xlabel(\"Initial State in Decimal\")\n",
    "ax1.set_ylabel(\"Final State in Decimal\")\n",
    "ax1.set_title(\"Initial State Decimal vs Final State Decimal\")\n",
    "plt.grid()\n",
    "plotLine.hlines(binarytodecimal(V1), 0, 512, color='blue',linestyle='dotted', label = 'Memory State1')\n",
    "plotLine.hlines(binarytodecimal(V2), 0, 512, color='green',linestyle='dotted',label = 'Memory State2')\n",
    "plotLine.legend(loc='lower right')\n",
    "plotLine.show()"
   ]
  },
  {
   "cell_type": "code",
   "execution_count": null,
   "id": "bc38f801",
   "metadata": {},
   "outputs": [],
   "source": []
  }
 ],
 "metadata": {
  "kernelspec": {
   "display_name": "Python 3",
   "language": "python",
   "name": "python3"
  },
  "language_info": {
   "codemirror_mode": {
    "name": "ipython",
    "version": 3
   },
   "file_extension": ".py",
   "mimetype": "text/x-python",
   "name": "python",
   "nbconvert_exporter": "python",
   "pygments_lexer": "ipython3",
   "version": "3.8.8"
  }
 },
 "nbformat": 4,
 "nbformat_minor": 5
}
